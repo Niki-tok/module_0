{
 "cells": [
  {
   "cell_type": "code",
   "execution_count": 1,
   "metadata": {},
   "outputs": [],
   "source": [
    "import numpy as np\n",
    "number = np.random.randint(1,101) \n",
    "\n",
    "def game_core_v2(number):\n",
    "    '''Сначала устанавливаем любое random число, а потом уменьшаем или увеличиваем его на половину диапазона от random числа\n",
    "     до нижней или верхней границы угадываемого диапазона чисел в зависимости от того, больше оно или меньше нужного.\n",
    "     Функция принимает загаданное число и возвращает число попыток'''\n",
    "    count = 1  # число попыток начинается с 1, т.к. первая попытка - рандомное число\n",
    "    low = 1  # устанавливаем начальнные нижнюю и верхнюю границы диапазона выбора рандомного числа                                                        \n",
    "    high = 101 \n",
    "    predict = np.random.randint(low,high)\n",
    "    while number != predict:\n",
    "        count += 1\n",
    "        predict = (low + high) // 2 # устанавливем, в каких границах будем выбирать рандомное число\n",
    "        if number > predict:\n",
    "            low = predict # если рандомное число меньше загадонного, то новой нижней границей диапазона будет рандомное число\n",
    "        else:\n",
    "            high = predict # если рандомное число больше загадонного, то новой верхней границей диапазона будет рандомное число   \n",
    "    return(count) # выход из цикла, если угадали\n",
    "                \n",
    "def score_game(game_core):\n",
    "    '''Запускаем игру 1000 раз, чтобы узнать, как быстро игра угадывает число'''\n",
    "    count_ls = []\n",
    "    np.random.seed(1)  # фиксируем RANDOM SEED, чтобы ваш эксперимент был воспроизводим!\n",
    "    random_array = np.random.randint(1,101, size=(1000))\n",
    "    for number in random_array:\n",
    "        count_ls.append(game_core(number))\n",
    "    score = int(np.mean(count_ls))\n",
    "    print(f\"Ваш алгоритм угадывает число в среднем за {score} попыток\")\n",
    "    return(score)"
   ]
  },
  {
   "cell_type": "code",
   "execution_count": 2,
   "metadata": {},
   "outputs": [
    {
     "name": "stdout",
     "output_type": "stream",
     "text": [
      "Ваш алгоритм угадывает число в среднем за 6 попыток\n"
     ]
    },
    {
     "data": {
      "text/plain": [
       "6"
      ]
     },
     "execution_count": 2,
     "metadata": {},
     "output_type": "execute_result"
    }
   ],
   "source": [
    "score_game(game_core_v2)"
   ]
  }
 ],
 "metadata": {
  "kernelspec": {
   "display_name": "Python 3",
   "language": "python",
   "name": "python3"
  },
  "language_info": {
   "codemirror_mode": {
    "name": "ipython",
    "version": 3
   },
   "file_extension": ".py",
   "mimetype": "text/x-python",
   "name": "python",
   "nbconvert_exporter": "python",
   "pygments_lexer": "ipython3",
   "version": "3.8.5"
  }
 },
 "nbformat": 4,
 "nbformat_minor": 4
}
